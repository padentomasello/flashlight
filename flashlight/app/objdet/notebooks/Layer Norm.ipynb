{
 "cells": [
  {
   "cell_type": "code",
   "execution_count": 8,
   "metadata": {},
   "outputs": [],
   "source": [
    "import torch as torch\n",
    "import torch.nn as nn"
   ]
  },
  {
   "cell_type": "code",
   "execution_count": 67,
   "metadata": {},
   "outputs": [],
   "source": [
    "B = 2\n",
    "WH = 5\n",
    "F = 8\n",
    "\n",
    "\n",
    "input = torch.ones(B, WH, F)\n",
    "\n",
    "for b in range(B):\n",
    "    for wh in range(WH):\n",
    "        input[b, wh, :] = torch.arange(0, F)"
   ]
  },
  {
   "cell_type": "code",
   "execution_count": 68,
   "metadata": {},
   "outputs": [
    {
     "data": {
      "text/plain": [
       "tensor([0., 1., 2., 3., 4., 5., 6., 7.])"
      ]
     },
     "execution_count": 68,
     "metadata": {},
     "output_type": "execute_result"
    }
   ],
   "source": [
    "input[1, 1, :]"
   ]
  },
  {
   "cell_type": "code",
   "execution_count": 77,
   "metadata": {},
   "outputs": [],
   "source": [
    "nums = torch.arange(0, F, dtype=float)\n",
    "mean = nums.sum() / len(nums)\n",
    "var = torch.var(nums, False)"
   ]
  },
  {
   "cell_type": "code",
   "execution_count": 78,
   "metadata": {},
   "outputs": [
    {
     "data": {
      "text/plain": [
       "tensor([-1.5275, -1.0911, -0.6547, -0.2182,  0.2182,  0.6547,  1.0911,  1.5275],\n",
       "       dtype=torch.float64)"
      ]
     },
     "execution_count": 78,
     "metadata": {},
     "output_type": "execute_result"
    }
   ],
   "source": [
    "norm = (nums - mean) / torch.sqrt(var)\n",
    "norm"
   ]
  },
  {
   "cell_type": "code",
   "execution_count": 81,
   "metadata": {},
   "outputs": [
    {
     "data": {
      "text/plain": [
       "tensor([[[-1.5275, -1.0911, -0.6547, -0.2182,  0.2182,  0.6547,  1.0911,\n",
       "           1.5275],\n",
       "         [-1.5275, -1.0911, -0.6547, -0.2182,  0.2182,  0.6547,  1.0911,\n",
       "           1.5275],\n",
       "         [-1.5275, -1.0911, -0.6547, -0.2182,  0.2182,  0.6547,  1.0911,\n",
       "           1.5275],\n",
       "         [-1.5275, -1.0911, -0.6547, -0.2182,  0.2182,  0.6547,  1.0911,\n",
       "           1.5275],\n",
       "         [-1.5275, -1.0911, -0.6547, -0.2182,  0.2182,  0.6547,  1.0911,\n",
       "           1.5275]],\n",
       "\n",
       "        [[-1.5275, -1.0911, -0.6547, -0.2182,  0.2182,  0.6547,  1.0911,\n",
       "           1.5275],\n",
       "         [-1.5275, -1.0911, -0.6547, -0.2182,  0.2182,  0.6547,  1.0911,\n",
       "           1.5275],\n",
       "         [-1.5275, -1.0911, -0.6547, -0.2182,  0.2182,  0.6547,  1.0911,\n",
       "           1.5275],\n",
       "         [-1.5275, -1.0911, -0.6547, -0.2182,  0.2182,  0.6547,  1.0911,\n",
       "           1.5275],\n",
       "         [-1.5275, -1.0911, -0.6547, -0.2182,  0.2182,  0.6547,  1.0911,\n",
       "           1.5275]]], grad_fn=<NativeLayerNormBackward>)"
      ]
     },
     "execution_count": 81,
     "metadata": {},
     "output_type": "execute_result"
    }
   ],
   "source": [
    "m = nn.LayerNorm(F, eps=0.0)\n",
    "m.eval()\n",
    "m(input)"
   ]
  },
  {
   "cell_type": "code",
   "execution_count": 82,
   "metadata": {},
   "outputs": [],
   "source": [
    "m = nn.LayerNorm(F)"
   ]
  },
  {
   "cell_type": "code",
   "execution_count": 83,
   "metadata": {},
   "outputs": [
    {
     "data": {
      "text/plain": [
       "LayerNorm((8,), eps=1e-05, elementwise_affine=True)"
      ]
     },
     "execution_count": 83,
     "metadata": {},
     "output_type": "execute_result"
    }
   ],
   "source": [
    "m"
   ]
  },
  {
   "cell_type": "code",
   "execution_count": 84,
   "metadata": {},
   "outputs": [
    {
     "data": {
      "text/plain": [
       "[('weight',\n",
       "  Parameter containing:\n",
       "  tensor([1., 1., 1., 1., 1., 1., 1., 1.], requires_grad=True)),\n",
       " ('bias',\n",
       "  Parameter containing:\n",
       "  tensor([0., 0., 0., 0., 0., 0., 0., 0.], requires_grad=True))]"
      ]
     },
     "execution_count": 84,
     "metadata": {},
     "output_type": "execute_result"
    }
   ],
   "source": [
    "[p for p in m.named_parameters()]"
   ]
  },
  {
   "cell_type": "code",
   "execution_count": 85,
   "metadata": {},
   "outputs": [],
   "source": [
    "m.weight = torch.nn.Parameter(torch.tensor([1.0, 2, 3, 4, 5, 5, 7, 8]))"
   ]
  },
  {
   "cell_type": "code",
   "execution_count": 86,
   "metadata": {},
   "outputs": [],
   "source": [
    "m.bias = torch.nn.Parameter(torch.tensor([0.1, .2, .3, .4, .5, .5, .7, .8]))"
   ]
  },
  {
   "cell_type": "code",
   "execution_count": 87,
   "metadata": {},
   "outputs": [
    {
     "data": {
      "text/plain": [
       "tensor([[[-1.4275, -1.9822, -1.6640, -0.4729,  1.5911,  3.7733,  8.3376,\n",
       "          13.0202],\n",
       "         [-1.4275, -1.9822, -1.6640, -0.4729,  1.5911,  3.7733,  8.3376,\n",
       "          13.0202],\n",
       "         [-1.4275, -1.9822, -1.6640, -0.4729,  1.5911,  3.7733,  8.3376,\n",
       "          13.0202],\n",
       "         [-1.4275, -1.9822, -1.6640, -0.4729,  1.5911,  3.7733,  8.3376,\n",
       "          13.0202],\n",
       "         [-1.4275, -1.9822, -1.6640, -0.4729,  1.5911,  3.7733,  8.3376,\n",
       "          13.0202]],\n",
       "\n",
       "        [[-1.4275, -1.9822, -1.6640, -0.4729,  1.5911,  3.7733,  8.3376,\n",
       "          13.0202],\n",
       "         [-1.4275, -1.9822, -1.6640, -0.4729,  1.5911,  3.7733,  8.3376,\n",
       "          13.0202],\n",
       "         [-1.4275, -1.9822, -1.6640, -0.4729,  1.5911,  3.7733,  8.3376,\n",
       "          13.0202],\n",
       "         [-1.4275, -1.9822, -1.6640, -0.4729,  1.5911,  3.7733,  8.3376,\n",
       "          13.0202],\n",
       "         [-1.4275, -1.9822, -1.6640, -0.4729,  1.5911,  3.7733,  8.3376,\n",
       "          13.0202]]], grad_fn=<NativeLayerNormBackward>)"
      ]
     },
     "execution_count": 87,
     "metadata": {},
     "output_type": "execute_result"
    }
   ],
   "source": [
    "m(input)"
   ]
  },
  {
   "cell_type": "code",
   "execution_count": null,
   "metadata": {},
   "outputs": [],
   "source": []
  },
  {
   "cell_type": "code",
   "execution_count": null,
   "metadata": {},
   "outputs": [],
   "source": []
  }
 ],
 "metadata": {
  "kernelspec": {
   "display_name": "Python 3",
   "language": "python",
   "name": "python3"
  },
  "language_info": {
   "codemirror_mode": {
    "name": "ipython",
    "version": 3
   },
   "file_extension": ".py",
   "mimetype": "text/x-python",
   "name": "python",
   "nbconvert_exporter": "python",
   "pygments_lexer": "ipython3",
   "version": "3.8.2"
  }
 },
 "nbformat": 4,
 "nbformat_minor": 4
}
